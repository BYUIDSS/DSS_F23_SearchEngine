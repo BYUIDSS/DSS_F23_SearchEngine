{
 "cells": [
  {
   "cell_type": "code",
   "execution_count": null,
   "id": "b74aa574-8aba-4476-893c-c774fe9687e9",
   "metadata": {},
   "outputs": [],
   "source": [
    "from sentence_transformers import SentenceTransformer, CrossEncoder, util\n",
    "import torch"
   ]
  },
  {
   "cell_type": "code",
   "execution_count": null,
   "id": "0c51ecf7-3d83-4ed2-91c6-93034c8b4e12",
   "metadata": {},
   "outputs": [
    {
     "data": {
      "application/vnd.jupyter.widget-view+json": {
       "model_id": "973855f6c3d74eb8bbf83e2f15cfc847",
       "version_major": 2,
       "version_minor": 0
      },
      "text/plain": [
       "Downloading (…)5fedf/.gitattributes:   0%|          | 0.00/737 [00:00<?, ?B/s]"
      ]
     },
     "metadata": {},
     "output_type": "display_data"
    },
    {
     "data": {
      "application/vnd.jupyter.widget-view+json": {
       "model_id": "a96bbc10fad344e68650d264cb5da26a",
       "version_major": 2,
       "version_minor": 0
      },
      "text/plain": [
       "Downloading (…)_Pooling/config.json:   0%|          | 0.00/190 [00:00<?, ?B/s]"
      ]
     },
     "metadata": {},
     "output_type": "display_data"
    },
    {
     "data": {
      "application/vnd.jupyter.widget-view+json": {
       "model_id": "fd72863d13ed44888648d28d968bf260",
       "version_major": 2,
       "version_minor": 0
      },
      "text/plain": [
       "Downloading (…)2cb455fedf/README.md:   0%|          | 0.00/11.5k [00:00<?, ?B/s]"
      ]
     },
     "metadata": {},
     "output_type": "display_data"
    },
    {
     "data": {
      "application/vnd.jupyter.widget-view+json": {
       "model_id": "a7aea979f4f34cda9be101b3c115b4a6",
       "version_major": 2,
       "version_minor": 0
      },
      "text/plain": [
       "Downloading (…)b455fedf/config.json:   0%|          | 0.00/612 [00:00<?, ?B/s]"
      ]
     },
     "metadata": {},
     "output_type": "display_data"
    },
    {
     "data": {
      "application/vnd.jupyter.widget-view+json": {
       "model_id": "66856b3d0be24d88a0515cacf3845342",
       "version_major": 2,
       "version_minor": 0
      },
      "text/plain": [
       "Downloading (…)ce_transformers.json:   0%|          | 0.00/116 [00:00<?, ?B/s]"
      ]
     },
     "metadata": {},
     "output_type": "display_data"
    },
    {
     "data": {
      "application/vnd.jupyter.widget-view+json": {
       "model_id": "4dbd1671cefd4ed3b716687e76d82934",
       "version_major": 2,
       "version_minor": 0
      },
      "text/plain": [
       "Downloading (…)edf/data_config.json:   0%|          | 0.00/25.5k [00:00<?, ?B/s]"
      ]
     },
     "metadata": {},
     "output_type": "display_data"
    },
    {
     "data": {
      "application/vnd.jupyter.widget-view+json": {
       "model_id": "cf7ca621e3d44335b82e1ae29b4e95c7",
       "version_major": 2,
       "version_minor": 0
      },
      "text/plain": [
       "Downloading pytorch_model.bin:   0%|          | 0.00/90.9M [00:00<?, ?B/s]"
      ]
     },
     "metadata": {},
     "output_type": "display_data"
    },
    {
     "data": {
      "application/vnd.jupyter.widget-view+json": {
       "model_id": "1b6ac41c10d9407bb89c1fe96a948e13",
       "version_major": 2,
       "version_minor": 0
      },
      "text/plain": [
       "Downloading (…)nce_bert_config.json:   0%|          | 0.00/53.0 [00:00<?, ?B/s]"
      ]
     },
     "metadata": {},
     "output_type": "display_data"
    },
    {
     "data": {
      "application/vnd.jupyter.widget-view+json": {
       "model_id": "76723370d34346f0a0f0eedd88261568",
       "version_major": 2,
       "version_minor": 0
      },
      "text/plain": [
       "Downloading (…)cial_tokens_map.json:   0%|          | 0.00/112 [00:00<?, ?B/s]"
      ]
     },
     "metadata": {},
     "output_type": "display_data"
    },
    {
     "data": {
      "application/vnd.jupyter.widget-view+json": {
       "model_id": "88c21ff919464696b5b19f3b6730bbcf",
       "version_major": 2,
       "version_minor": 0
      },
      "text/plain": [
       "Downloading (…)5fedf/tokenizer.json:   0%|          | 0.00/466k [00:00<?, ?B/s]"
      ]
     },
     "metadata": {},
     "output_type": "display_data"
    },
    {
     "data": {
      "application/vnd.jupyter.widget-view+json": {
       "model_id": "7e4ce1e26804405da5fdbe4b94bae87a",
       "version_major": 2,
       "version_minor": 0
      },
      "text/plain": [
       "Downloading (…)okenizer_config.json:   0%|          | 0.00/383 [00:00<?, ?B/s]"
      ]
     },
     "metadata": {},
     "output_type": "display_data"
    },
    {
     "data": {
      "application/vnd.jupyter.widget-view+json": {
       "model_id": "dd18e64d2c4b4b8dbd47a08a5ba416a5",
       "version_major": 2,
       "version_minor": 0
      },
      "text/plain": [
       "Downloading (…)fedf/train_script.py:   0%|          | 0.00/13.8k [00:00<?, ?B/s]"
      ]
     },
     "metadata": {},
     "output_type": "display_data"
    },
    {
     "data": {
      "application/vnd.jupyter.widget-view+json": {
       "model_id": "a4c99f285073483ba602fef2a057d253",
       "version_major": 2,
       "version_minor": 0
      },
      "text/plain": [
       "Downloading (…)2cb455fedf/vocab.txt:   0%|          | 0.00/232k [00:00<?, ?B/s]"
      ]
     },
     "metadata": {},
     "output_type": "display_data"
    },
    {
     "data": {
      "application/vnd.jupyter.widget-view+json": {
       "model_id": "3daf4544ec434112a1dbfb6716afc344",
       "version_major": 2,
       "version_minor": 0
      },
      "text/plain": [
       "Downloading (…)455fedf/modules.json:   0%|          | 0.00/349 [00:00<?, ?B/s]"
      ]
     },
     "metadata": {},
     "output_type": "display_data"
    }
   ],
   "source": [
    "#We use the Bi-Encoder to encode all passages, so that we can use it with sematic search\n",
    "bi_encoder = SentenceTransformer('multi-qa-MiniLM-L6-cos-v1')\n",
    "bi_encoder.max_seq_length = 256     #Truncate long passages to 256 tokens\n",
    "top_k = 32                          #Number of passages we want to retrieve with th"
   ]
  },
  {
   "cell_type": "code",
   "execution_count": null,
   "id": "862cb9d4-f329-4595-b62d-b6ca88b59173",
   "metadata": {},
   "outputs": [
    {
     "data": {
      "application/vnd.jupyter.widget-view+json": {
       "model_id": "f2ae39d343954ec4a2410f72a889c620",
       "version_major": 2,
       "version_minor": 0
      },
      "text/plain": [
       "Downloading (…)lve/main/config.json:   0%|          | 0.00/794 [00:00<?, ?B/s]"
      ]
     },
     "metadata": {},
     "output_type": "display_data"
    },
    {
     "data": {
      "application/vnd.jupyter.widget-view+json": {
       "model_id": "99b821233a034822bcbbabf14fe5ca2e",
       "version_major": 2,
       "version_minor": 0
      },
      "text/plain": [
       "Downloading pytorch_model.bin:   0%|          | 0.00/90.9M [00:00<?, ?B/s]"
      ]
     },
     "metadata": {},
     "output_type": "display_data"
    },
    {
     "data": {
      "application/vnd.jupyter.widget-view+json": {
       "model_id": "64b08851030445c6a1ea6255e0745549",
       "version_major": 2,
       "version_minor": 0
      },
      "text/plain": [
       "Downloading (…)okenizer_config.json:   0%|          | 0.00/316 [00:00<?, ?B/s]"
      ]
     },
     "metadata": {},
     "output_type": "display_data"
    },
    {
     "data": {
      "application/vnd.jupyter.widget-view+json": {
       "model_id": "ef35bf755c9c45299c529416e91fa530",
       "version_major": 2,
       "version_minor": 0
      },
      "text/plain": [
       "Downloading (…)solve/main/vocab.txt:   0%|          | 0.00/232k [00:00<?, ?B/s]"
      ]
     },
     "metadata": {},
     "output_type": "display_data"
    },
    {
     "data": {
      "application/vnd.jupyter.widget-view+json": {
       "model_id": "3d0413f6feac4b36b08a74d042e98e97",
       "version_major": 2,
       "version_minor": 0
      },
      "text/plain": [
       "Downloading (…)cial_tokens_map.json:   0%|          | 0.00/112 [00:00<?, ?B/s]"
      ]
     },
     "metadata": {},
     "output_type": "display_data"
    }
   ],
   "source": [
    "#The bi-encoder will retrieve 100 documents. We use a cross-encoder, to re-rank the results list to improve the quality\n",
    "cross_encoder = CrossEncoder('cross-encoder/ms-marco-MiniLM-L-6-v2')"
   ]
  },
  {
   "cell_type": "code",
   "execution_count": null,
   "id": "94253048-9352-4a31-9ad8-5aed2b0e25be",
   "metadata": {},
   "outputs": [
    {
     "data": {
      "text/html": [
       "<div>\n",
       "<style scoped>\n",
       "    .dataframe tbody tr th:only-of-type {\n",
       "        vertical-align: middle;\n",
       "    }\n",
       "\n",
       "    .dataframe tbody tr th {\n",
       "        vertical-align: top;\n",
       "    }\n",
       "\n",
       "    .dataframe thead th {\n",
       "        text-align: right;\n",
       "    }\n",
       "</style>\n",
       "<table border=\"1\" class=\"dataframe\">\n",
       "  <thead>\n",
       "    <tr style=\"text-align: right;\">\n",
       "      <th></th>\n",
       "      <th>Text Only Transcript</th>\n",
       "    </tr>\n",
       "  </thead>\n",
       "  <tbody>\n",
       "    <tr>\n",
       "      <th>0</th>\n",
       "      <td>Sept. travling in company with Elder [[Benjami...</td>\n",
       "    </tr>\n",
       "    <tr>\n",
       "      <th>1</th>\n",
       "      <td>September 11, 1836 ~ Sunday\\n\\n\\nSept. ^11th^ ...</td>\n",
       "    </tr>\n",
       "    <tr>\n",
       "      <th>2</th>\n",
       "      <td>their Oxen, their Horses their Tents their arm...</td>\n",
       "    </tr>\n",
       "    <tr>\n",
       "      <th>3</th>\n",
       "      <td>{[On] the [illegible] of Sister [[Mary Barker|...</td>\n",
       "    </tr>\n",
       "    <tr>\n",
       "      <th>4</th>\n",
       "      <td>September 22, 1836 ~ Thursday\\n\\n\\nSept 22 Pre...</td>\n",
       "    </tr>\n",
       "  </tbody>\n",
       "</table>\n",
       "</div>"
      ],
      "text/plain": [
       "                                Text Only Transcript\n",
       "0  Sept. travling in company with Elder [[Benjami...\n",
       "1  September 11, 1836 ~ Sunday\\n\\n\\nSept. ^11th^ ...\n",
       "2  their Oxen, their Horses their Tents their arm...\n",
       "3  {[On] the [illegible] of Sister [[Mary Barker|...\n",
       "4  September 22, 1836 ~ Thursday\\n\\n\\nSept 22 Pre..."
      ]
     },
     "execution_count": null,
     "metadata": {},
     "output_type": "execute_result"
    }
   ],
   "source": [
    "import pandas as pd\n",
    "\n",
    "docs = pd.read_csv('pages-export.csv')\n",
    "pd.DataFrame(docs['Text Only Transcript']).head(5)"
   ]
  },
  {
   "cell_type": "code",
   "execution_count": null,
   "id": "8b6415da-c235-4d92-8024-665ae85bcd16",
   "metadata": {},
   "outputs": [],
   "source": [
    "mask = docs['Text Only Transcript'].str.len() >=1\n",
    "docs = docs.loc[mask]\n",
    "docs['Text Only Transcript'] = docs['Text Only Transcript'].astype('str')"
   ]
  },
  {
   "cell_type": "code",
   "execution_count": null,
   "id": "cee8f4b1-ced3-403a-ab65-6ba513f773fb",
   "metadata": {},
   "outputs": [
    {
     "data": {
      "text/html": [
       "<div>\n",
       "<style scoped>\n",
       "    .dataframe tbody tr th:only-of-type {\n",
       "        vertical-align: middle;\n",
       "    }\n",
       "\n",
       "    .dataframe tbody tr th {\n",
       "        vertical-align: top;\n",
       "    }\n",
       "\n",
       "    .dataframe thead th {\n",
       "        text-align: right;\n",
       "    }\n",
       "</style>\n",
       "<table border=\"1\" class=\"dataframe\">\n",
       "  <thead>\n",
       "    <tr style=\"text-align: right;\">\n",
       "      <th></th>\n",
       "      <th>Internal ID</th>\n",
       "      <th>Document Type</th>\n",
       "      <th>Parent ID</th>\n",
       "      <th>Order</th>\n",
       "      <th>Parent Name</th>\n",
       "      <th>UUID</th>\n",
       "      <th>Name</th>\n",
       "      <th>Website URL</th>\n",
       "      <th>Short URL</th>\n",
       "      <th>Image URL</th>\n",
       "      <th>Original Transcript</th>\n",
       "      <th>Text Only Transcript</th>\n",
       "      <th>People</th>\n",
       "      <th>Places</th>\n",
       "      <th>First Date</th>\n",
       "      <th>Dates</th>\n",
       "      <th>Topics</th>\n",
       "    </tr>\n",
       "  </thead>\n",
       "  <tbody>\n",
       "    <tr>\n",
       "      <th>0</th>\n",
       "      <td>1</td>\n",
       "      <td>Journals</td>\n",
       "      <td>665.0</td>\n",
       "      <td>102</td>\n",
       "      <td>Journal (December 29, 1833 – January 3, 1838)</td>\n",
       "      <td>92e144b8-d10c-4d42-9616-bcd81375c947</td>\n",
       "      <td>page_0001</td>\n",
       "      <td>https://wilfordwoodruffpapers.org/documents/65...</td>\n",
       "      <td>https://wilfordwoodruffpapers.org/p/jR</td>\n",
       "      <td>https://wilford-woodruff-papers.nyc3.digitaloc...</td>\n",
       "      <td>&lt;p&gt;&lt;/p&gt;&lt;p&gt;Sept. travling in company with Elder...</td>\n",
       "      <td>Sept. travling in company with Elder [[Benjami...</td>\n",
       "      <td>Isaiah Benton|Jefferson Turnbow|Lucinda Benton...</td>\n",
       "      <td>Calloway County, Kentucky</td>\n",
       "      <td>NaN</td>\n",
       "      <td>1836-09-10</td>\n",
       "      <td>testimony|Elder|truth|called|Doctrine and Cove...</td>\n",
       "    </tr>\n",
       "    <tr>\n",
       "      <th>1</th>\n",
       "      <td>2</td>\n",
       "      <td>Journals</td>\n",
       "      <td>665.0</td>\n",
       "      <td>103</td>\n",
       "      <td>Journal (December 29, 1833 – January 3, 1838)</td>\n",
       "      <td>ded69d92-7819-49ad-9677-e525af60a58c</td>\n",
       "      <td>page_0002</td>\n",
       "      <td>https://wilfordwoodruffpapers.org/documents/65...</td>\n",
       "      <td>https://wilfordwoodruffpapers.org/p/k5</td>\n",
       "      <td>https://wilford-woodruff-papers.nyc3.digitaloc...</td>\n",
       "      <td>&lt;p&gt;&lt;/p&gt;&lt;p&gt;&lt;strong&gt;&lt;time datetime=\"1836-09-11\"&gt;...</td>\n",
       "      <td>September 11, 1836 ~ Sunday\\n\\n\\nSept. ^11th^ ...</td>\n",
       "      <td>Abraham Owen Smoot|Daniel Cathcart|David Wyman...</td>\n",
       "      <td>Missouri|Zion</td>\n",
       "      <td>NaN</td>\n",
       "      <td>1836-09-11|1836-09-12|1836-09-13|1836-09-14|18...</td>\n",
       "      <td>God|laying on of hands|Zion|last days|healed|p...</td>\n",
       "    </tr>\n",
       "    <tr>\n",
       "      <th>2</th>\n",
       "      <td>3</td>\n",
       "      <td>Journals</td>\n",
       "      <td>665.0</td>\n",
       "      <td>104</td>\n",
       "      <td>Journal (December 29, 1833 – January 3, 1838)</td>\n",
       "      <td>291ca375-cd7a-4280-a11a-aa002b6b4a82</td>\n",
       "      <td>page_0003</td>\n",
       "      <td>https://wilfordwoodruffpapers.org/documents/65...</td>\n",
       "      <td>https://wilfordwoodruffpapers.org/p/l5</td>\n",
       "      <td>https://wilford-woodruff-papers.nyc3.digitaloc...</td>\n",
       "      <td>&lt;p&gt;&lt;/p&gt;&lt;p&gt;their Oxen, their Horses their Tents...</td>\n",
       "      <td>their Oxen, their Horses their Tents their arm...</td>\n",
       "      <td>Albert Petty|Daniel Cathcart|David Wyman Patte...</td>\n",
       "      <td>Zion|Cypress Creek, Benton County, Tennessee</td>\n",
       "      <td>NaN</td>\n",
       "      <td>NaN</td>\n",
       "      <td>baptism|God|Zion|Elder|baptized|children of Is...</td>\n",
       "    </tr>\n",
       "  </tbody>\n",
       "</table>\n",
       "</div>"
      ],
      "text/plain": [
       "   Internal ID Document Type  Parent ID  Order  \\\n",
       "0            1      Journals      665.0    102   \n",
       "1            2      Journals      665.0    103   \n",
       "2            3      Journals      665.0    104   \n",
       "\n",
       "                                     Parent Name  \\\n",
       "0  Journal (December 29, 1833 – January 3, 1838)   \n",
       "1  Journal (December 29, 1833 – January 3, 1838)   \n",
       "2  Journal (December 29, 1833 – January 3, 1838)   \n",
       "\n",
       "                                   UUID       Name  \\\n",
       "0  92e144b8-d10c-4d42-9616-bcd81375c947  page_0001   \n",
       "1  ded69d92-7819-49ad-9677-e525af60a58c  page_0002   \n",
       "2  291ca375-cd7a-4280-a11a-aa002b6b4a82  page_0003   \n",
       "\n",
       "                                         Website URL  \\\n",
       "0  https://wilfordwoodruffpapers.org/documents/65...   \n",
       "1  https://wilfordwoodruffpapers.org/documents/65...   \n",
       "2  https://wilfordwoodruffpapers.org/documents/65...   \n",
       "\n",
       "                                Short URL  \\\n",
       "0  https://wilfordwoodruffpapers.org/p/jR   \n",
       "1  https://wilfordwoodruffpapers.org/p/k5   \n",
       "2  https://wilfordwoodruffpapers.org/p/l5   \n",
       "\n",
       "                                           Image URL  \\\n",
       "0  https://wilford-woodruff-papers.nyc3.digitaloc...   \n",
       "1  https://wilford-woodruff-papers.nyc3.digitaloc...   \n",
       "2  https://wilford-woodruff-papers.nyc3.digitaloc...   \n",
       "\n",
       "                                 Original Transcript  \\\n",
       "0  <p></p><p>Sept. travling in company with Elder...   \n",
       "1  <p></p><p><strong><time datetime=\"1836-09-11\">...   \n",
       "2  <p></p><p>their Oxen, their Horses their Tents...   \n",
       "\n",
       "                                Text Only Transcript  \\\n",
       "0  Sept. travling in company with Elder [[Benjami...   \n",
       "1  September 11, 1836 ~ Sunday\\n\\n\\nSept. ^11th^ ...   \n",
       "2  their Oxen, their Horses their Tents their arm...   \n",
       "\n",
       "                                              People  \\\n",
       "0  Isaiah Benton|Jefferson Turnbow|Lucinda Benton...   \n",
       "1  Abraham Owen Smoot|Daniel Cathcart|David Wyman...   \n",
       "2  Albert Petty|Daniel Cathcart|David Wyman Patte...   \n",
       "\n",
       "                                         Places First Date  \\\n",
       "0                     Calloway County, Kentucky        NaN   \n",
       "1                                 Missouri|Zion        NaN   \n",
       "2  Zion|Cypress Creek, Benton County, Tennessee        NaN   \n",
       "\n",
       "                                               Dates  \\\n",
       "0                                         1836-09-10   \n",
       "1  1836-09-11|1836-09-12|1836-09-13|1836-09-14|18...   \n",
       "2                                                NaN   \n",
       "\n",
       "                                              Topics  \n",
       "0  testimony|Elder|truth|called|Doctrine and Cove...  \n",
       "1  God|laying on of hands|Zion|last days|healed|p...  \n",
       "2  baptism|God|Zion|Elder|baptized|children of Is...  "
      ]
     },
     "execution_count": null,
     "metadata": {},
     "output_type": "execute_result"
    }
   ],
   "source": [
    "docs.head(3)"
   ]
  },
  {
   "cell_type": "code",
   "execution_count": null,
   "id": "658e1268-228f-4775-af9d-088c1485e80c",
   "metadata": {},
   "outputs": [
    {
     "data": {
      "text/plain": [
       "\"October 17, 1835 ~ Saturday\\n\\n\\n17th Oct Preached at Mr [[Benjamin Lynn Clapp|Clapps]] &amp; Baptised 1 one\\nthen Rode to Br [[Alfred Loy|Loys]] Preached at his house\\nand returned to Br [[Benjamin Lynn Clapp|Clapp's]]. 3 miles\\n\\n\\nOctober 18, 1835 ~ Sunday\\n\\n\\n18 On the Lords day Rode to [[Clarks River, Calloway County, Kentucky|Clarks River]] 10 mi\\n&amp; Preached in the meeting house had A \\ndebate with A Campbellite [[CBI|Priest]]. Also Preached\\nat night in the same place on the Authenticity\\nof the [[Book of Mormon|Book of Mormon]] to A large Assembly\\n\\n\\nOctober 19, 1835 ~ Monday\\n\\n\\n19th Procured 1 subscriber for [[Latter Day Saints|M[essenger] &amp; Ad[vocate].]] Preached\\nin the evening at Br [[Daniel Stillwell Thomas|Thomas'es]] the [[spirit of God|Sp^i^rit of God]] rested {upon me}.\\n\\n\\nOctober 20, 1835 ~ Tuesday\\n\\n\\n20th I Baptized 3 [[Campbellite|Campbellite]]s one A deacon\\nthen Rode 12 miles &amp; Preached at Mr [[Joseph Greenwood|Joseph\\nGreenwoods]] Mr [[Joseph Greenwood|Greenwood]] was 81 years of\\nAge &amp; A [[American Revolution|revolution]]er unde[r] [[George Washington|George Washington]]\\nhis wife who was Carding Wool [[Elizabeth Greenwood|Elizabeth\\nGreenwood]] was 93 years of Age &amp; well\\nremembered [[Braddock|Braddock's Army]]\\n\\n\\nOctober 21, 1835 ~ Wednesday\\n\\n\\n21st Got 2 signers for M &amp; Ad. rode to Br [[Benjamin Lynn Clapp|Clapps]]\\n3 miles Preached in the evening at Br [[Benjamin Lynn Clapp|Claps]] ^on [[Terrapin Creek, Calloway and Graves Counties, Kentucky|Terropan River]]^\\nfrom the Lth [50th] Psalm 3. 4. 5. verses When I opened \\nA door for the reception of members by baptism\\nWhen 8 came foreward &amp; gave me their \\nhand all were [[Campbellite|Campbellite]]s save 1 which \\nwas A [[Baptist|Baptist]]. We repaired to the water \\nwhare the [[spirit of God|Spirit of God]] &amp; the solemnities of\\nof Eternity rested upon us While administering \\nthe ordinance of Baptism. It was A scene\\nthat caused rejoicing in both heaven &amp; Earth\\nto view 3 men lead their wives into the same\\nelement whare our [[Savior|Saviour]] had lain to obey \\nthe mandates of heaven\\n\\n\\nOctober 22, 1835 ~ Thursday\\n\\n\\n22nd Preached at Br [[John Camp|Camp's]] got 1 signer for E &amp; M Star\\n\\n\\nOctober 23, 1835 ~ Friday\\n\\n\\n23rd Rode in company with Br [[Benjamin Lynn Clapp|Benj' Clapp]] to \\nBr [[Levi Taylor|Taylors]] distance 22 miles\\n\\n\\nOctober 24, 1835 ~ Saturday\\n\\n\\n24th Wrote A Letter to President [[John Whitmer|John Whitmer]] in \\n[[Kirtland, Geauga County, Ohio|Kirtland]] sent 7 subscribers for papers. 14 baptised\\nsent $500 money\\n\\n\""
      ]
     },
     "execution_count": null,
     "metadata": {},
     "output_type": "execute_result"
    }
   ],
   "source": [
    "doc_list = list(docs['Text Only Transcript'])\n",
    "doc_list[1091]"
   ]
  },
  {
   "cell_type": "code",
   "execution_count": null,
   "id": "622b750a-a404-4035-a80a-f577fb00333f",
   "metadata": {},
   "outputs": [
    {
     "data": {
      "application/vnd.jupyter.widget-view+json": {
       "model_id": "cffac9c37ea447cd989f7044d6a284de",
       "version_major": 2,
       "version_minor": 0
      },
      "text/plain": [
       "Batches:   0%|          | 0/912 [00:00<?, ?it/s]"
      ]
     },
     "metadata": {},
     "output_type": "display_data"
    }
   ],
   "source": [
    "# We encode all passages into our vector space. This takes about 5 minutes (depends on your GPU speed)\n",
    "corpus_embeddings = bi_encoder.encode(doc_list, convert_to_tensor=True, show_progress_bar=True)"
   ]
  },
  {
   "cell_type": "code",
   "execution_count": null,
   "id": "7d7d5042-cae4-4d79-8915-d62ed6883b35",
   "metadata": {},
   "outputs": [],
   "source": [
    "import pickle\n",
    "with open(\"my-embeddings.pkl\", \"wb\") as fOut:\n",
    "    pickle.dump({'embeddings': corpus_embeddings},fOut)"
   ]
  },
  {
   "cell_type": "code",
   "execution_count": null,
   "id": "4ea2c836-b5f8-4342-b65f-fedc67138215",
   "metadata": {},
   "outputs": [],
   "source": [
    "def search(query):\n",
    "    print(\"Input question:\", query)\n",
    "\n",
    "    ##### Sematic Search #####\n",
    "    # Encode the query using the bi-encoder and find potentially relevant passages\n",
    "    question_embedding = bi_encoder.encode(query, convert_to_tensor=True)\n",
    "    hits = util.semantic_search(question_embedding, corpus_embeddings, top_k=top_k)\n",
    "    hits = hits[0]  # Get the hits for the first query\n",
    "\n",
    "    ##### Re-Ranking #####\n",
    "    # Now, score all retrieved passages with the cross_encoder\n",
    "    cross_inp = [[query, doc_list[hit['corpus_id']]] for hit in hits]\n",
    "    cross_scores = cross_encoder.predict(cross_inp)\n",
    "\n",
    "    # Sort results by the cross-encoder scores\n",
    "    for idx in range(len(cross_scores)):\n",
    "        hits[idx]['cross-score'] = cross_scores[idx]\n",
    "        \n",
    "    # Output of top-5 hits from re-ranker\n",
    "    print(\"\\n-------------------------\\n\")\n",
    "    print(\"Top-3 Cross-Encoder Re-ranker hits\")\n",
    "    hits = sorted(hits, key=lambda x: x['cross-score'], reverse=True)\n",
    "    \n",
    "    results = []\n",
    "    for hit in hits[0:3]:\n",
    "        print(\"\\t{:.3f}\\t{}\".format(hit['cross-score'], doc_list[hit['corpus_id']].replace(\"\\n\", \" \")))\n",
    "        results.append(doc_list[hit['corpus_id']])\n",
    "        \n",
    "    return results\n",
    "        \n"
   ]
  },
  {
   "cell_type": "code",
   "execution_count": null,
   "id": "53e13503-01d9-4bfc-abd4-79d3c4bbb619",
   "metadata": {},
   "outputs": [
    {
     "name": "stdout",
     "output_type": "stream",
     "text": [
      "Input question: Who is God?\n",
      "\n",
      "-------------------------\n",
      "\n",
      "Top-3 Cross-Encoder Re-ranker hits\n",
      "\t1.912\tof the Almighty.  Go then to the beginning that you may understand. I ask this congregation what kind of a being is God? Turn your thoughts in your own hearts and say have any of you seen or heard Him or communed with Him. This is a question which may occupy your attention. The scriptures informs us that this is eternal life to know thee the only true and living God and Jesus Christ whom thou hast sent. If any enquire What kind of a being God is I would say if you do not know Him you have not eternal life Go back and find out what kind of a being God is. If I am the man that shows you what kind of being  God is then let every man and woman sit in silence and never lift up the hand against me again. If I do not this I will make no more pretentions to inspiration or to be a Prophet. I should be like the rest of the world a false teacher and you would want to take my life. But you might just as well take the lives of other false teachers as mine if I was false. But meddle not with any man for his religion. Every Government ought to protect every man to enjoy his religion  I will show the world is wrong by showing what God is. I am going to enquire after Him so that you may know God that persecution may cease concerning me. I will go back to the beginning to show what kind of a being God was. I will tell you and hear it O Earth! God who sits in Yonder heavens is a man like unto yourselves. That God if you were to see Him to day who holds the worlds you would see Him like a man - in form like yourselves. Adam was made in His\n",
      "\t1.487\tGod is with the Latter Day Saints {shorthand}\n",
      "\t1.279\tof the Almighty.  Go then to the beginning that you may understand. [[Joseph Smith Jr.|I]] ask this congregation what kind of a being is God? Turn your thoughts in your own hearts and say have any of you seen or heard Him or communed with Him. This is a question which may occupy your attention. The scriptures informs us that this is eternal life to know thee the only true and living God and Jesus Christ whom thou hast sent. If any enquire What kind of a being God is I would say if you do not know Him you have not eternal life Go back and find out what kind of a being God is. If I am the man that shows you what kind of being  God is then let every man and woman sit in silence and never lift up the hand against me again. If I do not this I will make no more pretentions to inspiration or to be a Prophet. I should be like the rest of the world a false teacher and you would want to take my life. But you might just as well take the lives of other false teachers as mine if I was false. But meddle not with any man for his religion. Every Government ought to protect ^permit^ every man to enjoy his religion  I will show the world is wrong by showing what God is. I am going to enquire after Him so that you may know God that persecution may cease concerning me. I will go back to the beginning to show what kind of a being God was. I will tell you and hear it O Earth! God who sits in Yonder heavens is a man like unto yourselves. That God if you were to see Him to day who holds the worlds you would see Him like a man in form like yourselves. [[Adam (OT)|Adam]] was made in His\n"
     ]
    }
   ],
   "source": [
    "results = search(\"Who is God?\")"
   ]
  },
  {
   "cell_type": "code",
   "execution_count": null,
   "id": "78b2ca62-c8f8-4f9b-9313-db15cd38624a",
   "metadata": {},
   "outputs": [
    {
     "data": {
      "text/html": [
       "<div>\n",
       "<style scoped>\n",
       "    .dataframe tbody tr th:only-of-type {\n",
       "        vertical-align: middle;\n",
       "    }\n",
       "\n",
       "    .dataframe tbody tr th {\n",
       "        vertical-align: top;\n",
       "    }\n",
       "\n",
       "    .dataframe thead th {\n",
       "        text-align: right;\n",
       "    }\n",
       "</style>\n",
       "<table border=\"1\" class=\"dataframe\">\n",
       "  <thead>\n",
       "    <tr style=\"text-align: right;\">\n",
       "      <th></th>\n",
       "      <th>Internal ID</th>\n",
       "      <th>Document Type</th>\n",
       "      <th>Parent ID</th>\n",
       "      <th>Order</th>\n",
       "      <th>Parent Name</th>\n",
       "      <th>UUID</th>\n",
       "      <th>Name</th>\n",
       "      <th>Website URL</th>\n",
       "      <th>Short URL</th>\n",
       "      <th>Image URL</th>\n",
       "      <th>Original Transcript</th>\n",
       "      <th>Text Only Transcript</th>\n",
       "      <th>People</th>\n",
       "      <th>Places</th>\n",
       "      <th>First Date</th>\n",
       "      <th>Dates</th>\n",
       "      <th>Topics</th>\n",
       "    </tr>\n",
       "  </thead>\n",
       "  <tbody>\n",
       "    <tr>\n",
       "      <th>0</th>\n",
       "      <td>23931</td>\n",
       "      <td>NaN</td>\n",
       "      <td>NaN</td>\n",
       "      <td>36</td>\n",
       "      <td>NaN</td>\n",
       "      <td>c0083255-3480-428b-98a0-ba2bc1a5117f</td>\n",
       "      <td>page_0036</td>\n",
       "      <td>NaN</td>\n",
       "      <td>https://wilfordwoodruffpapers.org/p/XnVg</td>\n",
       "      <td>https://wilford-woodruff-papers.nyc3.digitaloc...</td>\n",
       "      <td>&lt;p&gt;of the Almighty.&lt;/p&gt;\\n\\n&lt;p&gt;Go then to the b...</td>\n",
       "      <td>of the Almighty.\\n\\nGo then to the beginning t...</td>\n",
       "      <td>NaN</td>\n",
       "      <td>NaN</td>\n",
       "      <td>NaN</td>\n",
       "      <td>NaN</td>\n",
       "      <td>NaN</td>\n",
       "    </tr>\n",
       "    <tr>\n",
       "      <th>1</th>\n",
       "      <td>26689</td>\n",
       "      <td>Autobiographies</td>\n",
       "      <td>42658.0</td>\n",
       "      <td>36</td>\n",
       "      <td>Autobiography 1883 Tullidge's Quarterly Magazi...</td>\n",
       "      <td>abae9846-317f-4d1c-8d0a-63f367ffbcd6</td>\n",
       "      <td>page_0036</td>\n",
       "      <td>https://wilfordwoodruffpapers.org/documents/10...</td>\n",
       "      <td>https://wilfordwoodruffpapers.org/p/j5DW</td>\n",
       "      <td>https://wilford-woodruff-papers.nyc3.digitaloc...</td>\n",
       "      <td>&lt;p&gt;of the Almighty.&lt;/p&gt;\\n\\n&lt;p&gt;Go then to the b...</td>\n",
       "      <td>of the Almighty.\\n\\nGo then to the beginning t...</td>\n",
       "      <td>Joseph Smith Jr.|Adam (OT)</td>\n",
       "      <td>NaN</td>\n",
       "      <td>1844-04-06</td>\n",
       "      <td>NaN</td>\n",
       "      <td>NaN</td>\n",
       "    </tr>\n",
       "    <tr>\n",
       "      <th>2</th>\n",
       "      <td>29228</td>\n",
       "      <td>Additional</td>\n",
       "      <td>42564.0</td>\n",
       "      <td>398</td>\n",
       "      <td>Religious-Personal Bible with Study Notes, 1830</td>\n",
       "      <td>45d09f7a-4187-4829-a5b3-ad22fda9ac35</td>\n",
       "      <td>page_0048</td>\n",
       "      <td>https://wilfordwoodruffpapers.org/documents/a8...</td>\n",
       "      <td>https://wilfordwoodruffpapers.org/p/RBOw</td>\n",
       "      <td>https://wilford-woodruff-papers.nyc3.digitaloc...</td>\n",
       "      <td>&lt;p&gt;God is with the Latter Day Saints {shorthan...</td>\n",
       "      <td>God is with the Latter Day Saints {shorthand}</td>\n",
       "      <td>NaN</td>\n",
       "      <td>NaN</td>\n",
       "      <td>NaN</td>\n",
       "      <td>NaN</td>\n",
       "      <td>NaN</td>\n",
       "    </tr>\n",
       "  </tbody>\n",
       "</table>\n",
       "</div>"
      ],
      "text/plain": [
       "   Internal ID    Document Type  Parent ID  Order  \\\n",
       "0        23931              NaN        NaN     36   \n",
       "1        26689  Autobiographies    42658.0     36   \n",
       "2        29228       Additional    42564.0    398   \n",
       "\n",
       "                                         Parent Name  \\\n",
       "0                                                NaN   \n",
       "1  Autobiography 1883 Tullidge's Quarterly Magazi...   \n",
       "2    Religious-Personal Bible with Study Notes, 1830   \n",
       "\n",
       "                                   UUID       Name  \\\n",
       "0  c0083255-3480-428b-98a0-ba2bc1a5117f  page_0036   \n",
       "1  abae9846-317f-4d1c-8d0a-63f367ffbcd6  page_0036   \n",
       "2  45d09f7a-4187-4829-a5b3-ad22fda9ac35  page_0048   \n",
       "\n",
       "                                         Website URL  \\\n",
       "0                                                NaN   \n",
       "1  https://wilfordwoodruffpapers.org/documents/10...   \n",
       "2  https://wilfordwoodruffpapers.org/documents/a8...   \n",
       "\n",
       "                                  Short URL  \\\n",
       "0  https://wilfordwoodruffpapers.org/p/XnVg   \n",
       "1  https://wilfordwoodruffpapers.org/p/j5DW   \n",
       "2  https://wilfordwoodruffpapers.org/p/RBOw   \n",
       "\n",
       "                                           Image URL  \\\n",
       "0  https://wilford-woodruff-papers.nyc3.digitaloc...   \n",
       "1  https://wilford-woodruff-papers.nyc3.digitaloc...   \n",
       "2  https://wilford-woodruff-papers.nyc3.digitaloc...   \n",
       "\n",
       "                                 Original Transcript  \\\n",
       "0  <p>of the Almighty.</p>\\n\\n<p>Go then to the b...   \n",
       "1  <p>of the Almighty.</p>\\n\\n<p>Go then to the b...   \n",
       "2  <p>God is with the Latter Day Saints {shorthan...   \n",
       "\n",
       "                                Text Only Transcript  \\\n",
       "0  of the Almighty.\\n\\nGo then to the beginning t...   \n",
       "1  of the Almighty.\\n\\nGo then to the beginning t...   \n",
       "2      God is with the Latter Day Saints {shorthand}   \n",
       "\n",
       "                       People Places  First Date Dates Topics  \n",
       "0                         NaN    NaN         NaN   NaN    NaN  \n",
       "1  Joseph Smith Jr.|Adam (OT)    NaN  1844-04-06   NaN    NaN  \n",
       "2                         NaN    NaN         NaN   NaN    NaN  "
      ]
     },
     "execution_count": null,
     "metadata": {},
     "output_type": "execute_result"
    }
   ],
   "source": [
    "df_results = pd.DataFrame(results, columns = ['Text Only Transcript'])\n",
    "docs_match = docs.merge(df_results, on='Text Only Transcript')\n",
    "docs_match"
   ]
  }
 ],
 "metadata": {
  "kernelspec": {
   "display_name": "python3",
   "language": "python",
   "name": "python3"
  }
 },
 "nbformat": 4,
 "nbformat_minor": 5
}
